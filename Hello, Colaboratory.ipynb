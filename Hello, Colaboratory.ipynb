{
 "cells": [
  {
   "cell_type": "markdown",
   "metadata": {
    "colab_type": "text",
    "id": "9J7p406abzgl"
   },
   "source": [
    "<img height=\"60px\" src=\"https://colab.research.google.com/img/colab_favicon.ico\" align=\"left\" hspace=\"20px\" vspace=\"5px\">\n",
    "\n",
    "<h1>Welcome to Colaboratory!</h1>\n",
    "Colaboratory is a free Jupyter notebook environment that requires no setup and runs entirely in the cloud. See our [FAQ](https://research.google.com/colaboratory/faq.html) for more info."
   ]
  },
  {
   "cell_type": "markdown",
   "metadata": {
    "colab_type": "text",
    "id": "-Rh3-Vt9Nev9"
   },
   "source": [
    "## Getting Started\n",
    "- [Overview of Colaboratory](/notebooks/basic_features_overview.ipynb)\n",
    "- [Loading and saving data: Local files, Drive, Sheets, Google Cloud Storage](/notebooks/io.ipynb)\n",
    "- [Importing libraries and installing dependencies](/notebooks/snippets/importing_libraries.ipynb)\n",
    "- [Using Google Cloud BigQuery](/notebooks/bigquery.ipynb)\n",
    "- [Forms](/notebooks/forms.ipynb), [Charts](/notebooks/charts.ipynb), [Markdown](/notebooks/markdown_guide.ipynb), & [Widgets](/notebooks/widgets.ipynb)\n",
    "- [TensorFlow with GPU](/notebooks/gpu.ipynb)\n",
    "- [TensorFlow with TPU](/notebooks/tpu.ipynb)\n",
    "- [Machine Learning Crash Course](https://developers.google.com/machine-learning/crash-course/): [Intro to Pandas](/notebooks/mlcc/intro_to_pandas.ipynb) & [First Steps with TensorFlow](/notebooks/mlcc/first_steps_with_tensor_flow.ipynb)\n",
    "- [Using Colab with GitHub](https://colab.research.google.com/github/googlecolab/colabtools/blob/master/notebooks/colab-github-demo.ipynb)\n"
   ]
  },
  {
   "cell_type": "markdown",
   "metadata": {
    "colab_type": "text",
    "id": "1fr51oVCHRZU"
   },
   "source": [
    "## Highlighted Features\n",
    "### Seedbank\n",
    "\n",
    "Looking for Colab notebooks to learn from? Check out [Seedbank](https://tools.google.com/seedbank/), a place to discover interactive machine learning examples."
   ]
  },
  {
   "cell_type": "markdown",
   "metadata": {
    "colab_type": "text",
    "id": "9wi5kfGdhK0R"
   },
   "source": [
    "### TensorFlow execution"
   ]
  },
  {
   "cell_type": "markdown",
   "metadata": {
    "colab_type": "text",
    "id": "S9GW-n-oYWIj"
   },
   "source": [
    "Colaboratory allows you to execute TensorFlow code in your browser with a single click. The example below adds two matrices.\n",
    "\n",
    "$\\begin{bmatrix}\n",
    "  1. & 1. & 1. \\\\\n",
    "  1. & 1. & 1. \\\\\n",
    "\\end{bmatrix} +\n",
    "\\begin{bmatrix}\n",
    "  1. & 2. & 3. \\\\\n",
    "  4. & 5. & 6. \\\\\n",
    "\\end{bmatrix} =\n",
    "\\begin{bmatrix}\n",
    "  2. & 3. & 4. \\\\\n",
    "  5. & 6. & 7. \\\\\n",
    "\\end{bmatrix}$"
   ]
  },
  {
   "cell_type": "code",
   "execution_count": 2,
   "metadata": {
    "colab": {
     "base_uri": "https://localhost:8080/",
     "height": 53
    },
    "colab_type": "code",
    "id": "oYZkU7ZN3CL0",
    "outputId": "9589151d-5ff4-4bca-f05e-8bcba8ffcba1"
   },
   "outputs": [
    {
     "data": {
      "text/plain": [
       "array([[2., 3., 4.],\n",
       "       [5., 6., 7.]], dtype=float32)"
      ]
     },
     "execution_count": 2,
     "metadata": {},
     "output_type": "execute_result"
    }
   ],
   "source": [
    "import tensorflow as tf\n",
    "\n",
    "input1 = tf.ones((2, 3))\n",
    "input2 = tf.reshape(tf.range(1, 7, dtype=tf.float32), (2, 3))\n",
    "output = input1 + input2\n",
    "\n",
    "with tf.Session():\n",
    "  result = output.eval()\n",
    "result  "
   ]
  },
  {
   "cell_type": "markdown",
   "metadata": {
    "colab_type": "text",
    "id": "nwYF0E3Sjiy4"
   },
   "source": [
    "### GitHub\n",
    "\n",
    "For a full discussion of interactions between Colab and GitHub, see [Using Colab with GitHub](https://colab.research.google.com/github/googlecolab/colabtools/blob/master/notebooks/colab-github-demo.ipynb). As a brief summary:\n",
    "\n",
    "To save a copy of your Colab notebook to Github, select *File → Save a copy to GitHub…*\n",
    "\n",
    "To load a specific notebook from github, append the github path to http://colab.research.google.com/github/.\n",
    "For example to load this notebook in Colab: [https://github.com/tensorflow/docs/blob/master/site/en/tutorials/_index.ipynb](https://github.com/tensorflow/docs/blob/master/site/en/tutorials/_index.ipynb) use the following Colab URL: [https://colab.research.google.com/github/tensorflow/docs/blob/master/site/en/tutorials/_index.ipynb](https://colab.research.google.com/github/tensorflow/docs/blob/master/site/en/tutorials/_index.ipynb)\n",
    "\n",
    "To open a github notebook in one click, we recommend installing the [Open in Colab Chrome Extension](https://chrome.google.com/webstore/detail/open-in-colab/iogfkhleblhcpcekbiedikdehleodpjo).\n",
    "\n"
   ]
  },
  {
   "cell_type": "markdown",
   "metadata": {
    "colab_type": "text",
    "id": "yv2XIwi5hQ_g"
   },
   "source": [
    "### Visualization"
   ]
  },
  {
   "cell_type": "markdown",
   "metadata": {
    "colab_type": "text",
    "id": "rYs5mx2JZkmy"
   },
   "source": [
    "Colaboratory includes widely used libraries like [matplotlib](https://matplotlib.org/), simplifying visualization."
   ]
  },
  {
   "cell_type": "code",
   "execution_count": 14,
   "metadata": {
    "colab": {
     "height": 360
    },
    "colab_type": "code",
    "id": "xqrc5C-IaA5J",
    "outputId": "3460cc84-faf8-4d8c-a4e6-96a6809c389a",
    "scrolled": false
   },
   "outputs": [
    {
     "data": {
      "image/png": "[encoded data removed]",
      "text/plain": [
       "<Figure size 432x288 with 1 Axes>"
      ]
     },
     "metadata": {
      "needs_background": "light"
     },
     "output_type": "display_data"
    }
   ],
   "source": [
    "import matplotlib.pyplot as plt\n",
    "import numpy as np\n",
    "\n",
    "x = np.arange(20)\n",
    "y = [x_i + np.random.randn(1) for x_i in x]\n",
    "a, b = np.polyfit(x, y, 1)\n",
    "_ = plt.plot(x, y, 'o', np.arange(20), a*np.arange(20)+b, '-')"
   ]
  },
  {
   "cell_type": "markdown",
   "metadata": {
    "colab_type": "text",
    "id": "AN_LRQ9NkOjs"
   },
   "source": [
    "Want to use a new library?  `pip install` it at the top of the notebook. Then that library can be used anywhere else in the notebook. For recipes to import commonly used libraries, refer to the [importing libraries example notebook](/notebooks/snippets/importing_libraries.ipynb)."
   ]
  },
  {
   "cell_type": "code",
   "execution_count": 10,
   "metadata": {
    "colab": {
     "base_uri": "https://localhost:8080/",
     "height": 349
    },
    "colab_type": "code",
    "id": "FlQq0SUepQbd",
    "outputId": "6e404831-3336-4633-b76f-c6313ecdd356",
    "scrolled": true
   },
   "outputs": [
    {
     "ename": "ImportError",
     "evalue": "cannot import name 'venn'",
     "output_type": "error",
     "traceback": [
      "\u001b[1;31m---------------------------------------------------------------------------\u001b[0m",
      "\u001b[1;31mImportError\u001b[0m                               Traceback (most recent call last)",
      "\u001b[1;32m<ipython-input-10-2155364eda9c>\u001b[0m in \u001b[0;36m<module>\u001b[1;34m\u001b[0m\n\u001b[0;32m      1\u001b[0m \u001b[0mget_ipython\u001b[0m\u001b[1;33m(\u001b[0m\u001b[1;33m)\u001b[0m\u001b[1;33m.\u001b[0m\u001b[0msystem\u001b[0m\u001b[1;33m(\u001b[0m\u001b[1;34m'pip install -q matplotlib-venn'\u001b[0m\u001b[1;33m)\u001b[0m\u001b[1;33m\u001b[0m\u001b[1;33m\u001b[0m\u001b[0m\n\u001b[0;32m      2\u001b[0m \u001b[1;33m\u001b[0m\u001b[0m\n\u001b[1;32m----> 3\u001b[1;33m \u001b[1;32mfrom\u001b[0m \u001b[0mmatplotlib\u001b[0m \u001b[1;32mimport\u001b[0m \u001b[0mvenn\u001b[0m\u001b[1;33m\u001b[0m\u001b[1;33m\u001b[0m\u001b[0m\n\u001b[0m\u001b[0;32m      4\u001b[0m \u001b[0m_\u001b[0m \u001b[1;33m=\u001b[0m \u001b[0mvenn2\u001b[0m\u001b[1;33m(\u001b[0m\u001b[0msubsets\u001b[0m \u001b[1;33m=\u001b[0m \u001b[1;33m(\u001b[0m\u001b[1;36m3\u001b[0m\u001b[1;33m,\u001b[0m \u001b[1;36m2\u001b[0m\u001b[1;33m,\u001b[0m \u001b[1;36m1\u001b[0m\u001b[1;33m)\u001b[0m\u001b[1;33m)\u001b[0m\u001b[1;33m\u001b[0m\u001b[1;33m\u001b[0m\u001b[0m\n",
      "\u001b[1;31mImportError\u001b[0m: cannot import name 'venn'"
     ]
    }
   ],
   "source": [
    "!pip install -q matplotlib-venn\n",
    "\n",
    "from matplotlib import venn\n",
    "_ = venn2(subsets = (3, 2, 1))"
   ]
  },
  {
   "cell_type": "markdown",
   "metadata": {
    "colab_type": "text",
    "id": "LxZ3dPzYnyNF"
   },
   "source": [
    "### Forms\n",
    "\n",
    "Forms can be used to parameterize code. See the [forms example notebook](/notebooks/forms.ipynb) for more details."
   ]
  },
  {
   "cell_type": "code",
   "execution_count": 12,
   "metadata": {
    "colab": {},
    "colab_type": "code",
    "id": "FQ_Hx_9tn7uF"
   },
   "outputs": [],
   "source": [
    "#@title Examples\n",
    "\n",
    "text = 'value' #@param \n",
    "date_input = '2018-03-22' #@param {type:\"date\"}\n",
    "number_slider = 0 #@param {type:\"slider\", min:-1, max:1, step:0.1}\n",
    "dropdown = '1st option' #@param [\"1st option\", \"2nd option\", \"3rd option\"]\n"
   ]
  },
  {
   "cell_type": "markdown",
   "metadata": {
    "colab_type": "text",
    "id": "rTX3heEtu0b2"
   },
   "source": [
    "### Local runtime support\n",
    "\n",
    "Colab  supports connecting to a Jupyter runtime on your local machine. For more information, see our [documentation](https://research.google.com/colaboratory/local-runtimes.html)."
   ]
  }
 ],
 "metadata": {
  "colab": {
   "collapsed_sections": [],
   "name": "Copy of Hello, Colaboratory",
   "provenance": [
    {
     "file_id": "/v2/external/notebooks/welcome.ipynb",
     "timestamp": 1546020399458
    }
   ],
   "toc_visible": true,
   "version": "0.3.2"
  },
  "kernelspec": {
   "display_name": "TensorFlow-GPU",
   "language": "python",
   "name": "tf-gpu"
  },
  "language_info": {
   "codemirror_mode": {
    "name": "ipython",
    "version": 3
   },
   "file_extension": ".py",
   "mimetype": "text/x-python",
   "name": "python",
   "nbconvert_exporter": "python",
   "pygments_lexer": "ipython3",
   "version": "3.6.7"
  }
 },
 "nbformat": 4,
 "nbformat_minor": 1
}
