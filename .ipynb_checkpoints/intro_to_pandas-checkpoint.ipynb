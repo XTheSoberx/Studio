{
 "cells": [
  {
   "cell_type": "markdown",
   "metadata": {
    "colab_type": "text",
    "id": "JndnmDMp66FL"
   },
   "source": [
    "#### Copyright 2017 Google LLC."
   ]
  },
  {
   "cell_type": "code",
   "execution_count": null,
   "metadata": {
    "cellView": "both",
    "colab": {},
    "colab_type": "code",
    "id": "hMqWDc_m6rUC"
   },
   "outputs": [],
   "source": [
    "# Licensed under the Apache License, Version 2.0 (the \"License\");\n",
    "# you may not use this file except in compliance with the License.\n",
    "# You may obtain a copy of the License at\n",
    "#\n",
    "# https://www.apache.org/licenses/LICENSE-2.0\n",
    "#\n",
    "# Unless required by applicable law or agreed to in writing, software\n",
    "# distributed under the License is distributed on an \"AS IS\" BASIS,\n",
    "# WITHOUT WARRANTIES OR CONDITIONS OF ANY KIND, either express or implied.\n",
    "# See the License for the specific language governing permissions and\n",
    "# limitations under the License."
   ]
  },
  {
   "cell_type": "markdown",
   "metadata": {
    "colab_type": "text",
    "id": "rHLcriKWLRe4"
   },
   "source": [
    "# Quick Introduction to pandas"
   ]
  },
  {
   "cell_type": "markdown",
   "metadata": {
    "colab_type": "text",
    "id": "QvJBqX8_Bctk"
   },
   "source": [
    "**Learning Objectives:**\n",
    "  * Gain an introduction to the `DataFrame` and `Series` data structures of the *pandas* library\n",
    "  * Access and manipulate data within a `DataFrame` and `Series`\n",
    "  * Import CSV data into a *pandas* `DataFrame`\n",
    "  * Reindex a `DataFrame` to shuffle data"
   ]
  },
  {
   "cell_type": "markdown",
   "metadata": {
    "colab_type": "text",
    "id": "TIFJ83ZTBctl"
   },
   "source": [
    "[*pandas*](http://pandas.pydata.org/) is a column-oriented data analysis API. It's a great tool for handling and analyzing input data, and many ML frameworks support *pandas* data structures as inputs.\n",
    "Although a comprehensive introduction to the *pandas* API would span many pages, the core concepts are fairly straightforward, and we'll present them below. For a more complete reference, the [*pandas* docs site](http://pandas.pydata.org/pandas-docs/stable/index.html) contains extensive documentation and many tutorials."
   ]
  },
  {
   "cell_type": "markdown",
   "metadata": {
    "colab_type": "text",
    "id": "s_JOISVgmn9v"
   },
   "source": [
    "## Basic Concepts\n",
    "\n",
    "The following line imports the *pandas* API and prints the API version:"
   ]
  },
  {
   "cell_type": "code",
   "execution_count": 1,
   "metadata": {
    "colab": {
     "base_uri": "https://localhost:8080/",
     "height": 34
    },
    "colab_type": "code",
    "executionInfo": {
     "elapsed": 2593,
     "status": "ok",
     "timestamp": 1546017840444,
     "user": {
      "displayName": "Vito Masciulli",
      "photoUrl": "https://lh4.googleusercontent.com/-pFUayDS0zi8/AAAAAAAAAAI/AAAAAAAAGv8/35wOrvOCmz8/s64/photo.jpg",
      "userId": "01187774058518579048"
     },
     "user_tz": -60
    },
    "id": "aSRYu62xUi3g",
    "outputId": "5aee51d2-9446-4663-ba3f-7925844c995e"
   },
   "outputs": [
    {
     "data": {
      "text/plain": [
       "'0.23.4'"
      ]
     },
     "execution_count": 1,
     "metadata": {},
     "output_type": "execute_result"
    }
   ],
   "source": [
    "from __future__ import print_function as pf\n",
    "\n",
    "import pandas as pd\n",
    "pd.__version__"
   ]
  },
  {
   "cell_type": "markdown",
   "metadata": {
    "colab_type": "text",
    "id": "daQreKXIUslr"
   },
   "source": [
    "The primary data structures in *pandas* are implemented as two classes:\n",
    "\n",
    "  * **`DataFrame`**, which you can imagine as a relational data table, with rows and named columns.\n",
    "  * **`Series`**, which is a single column. A `DataFrame` contains one or more `Series` and a name for each `Series`.\n",
    "\n",
    "The data frame is a commonly used abstraction for data manipulation. Similar implementations exist in [Spark](https://spark.apache.org/) and [R](https://www.r-project.org/about.html)."
   ]
  },
  {
   "cell_type": "markdown",
   "metadata": {
    "colab_type": "text",
    "id": "fjnAk1xcU0yc"
   },
   "source": [
    "One way to create a `Series` is to construct a `Series` object. For example:"
   ]
  },
  {
   "cell_type": "code",
   "execution_count": 2,
   "metadata": {
    "colab": {
     "base_uri": "https://localhost:8080/",
     "height": 84
    },
    "colab_type": "code",
    "executionInfo": {
     "elapsed": 1006,
     "status": "ok",
     "timestamp": 1546017850306,
     "user": {
      "displayName": "Vito Masciulli",
      "photoUrl": "https://lh4.googleusercontent.com/-pFUayDS0zi8/AAAAAAAAAAI/AAAAAAAAGv8/35wOrvOCmz8/s64/photo.jpg",
      "userId": "01187774058518579048"
     },
     "user_tz": -60
    },
    "id": "DFZ42Uq7UFDj",
    "outputId": "f4d5dd51-5d99-4c90-9aef-6f28a08a0789"
   },
   "outputs": [
    {
     "data": {
      "text/plain": [
       "0    San Francisco\n",
       "1         San Jose\n",
       "2       Sacramento\n",
       "dtype: object"
      ]
     },
     "execution_count": 2,
     "metadata": {},
     "output_type": "execute_result"
    }
   ],
   "source": [
    "pd.Series(['San Francisco', 'San Jose', 'Sacramento'])"
   ]
  },
  {
   "cell_type": "markdown",
   "metadata": {
    "colab_type": "text",
    "id": "U5ouUp1cU6pC"
   },
   "source": [
    "`DataFrame` objects can be created by passing a `dict` mapping `string` column names to their respective `Series`. If the `Series` don't match in length, missing values are filled with special [NA/NaN](http://pandas.pydata.org/pandas-docs/stable/missing_data.html) values. Example:"
   ]
  },
  {
   "cell_type": "code",
   "execution_count": null,
   "metadata": {
    "colab": {
     "base_uri": "https://localhost:8080/",
     "height": 136
    },
    "colab_type": "code",
    "executionInfo": {
     "elapsed": 1336,
     "status": "ok",
     "timestamp": 1546017854347,
     "user": {
      "displayName": "Vito Masciulli",
      "photoUrl": "https://lh4.googleusercontent.com/-pFUayDS0zi8/AAAAAAAAAAI/AAAAAAAAGv8/35wOrvOCmz8/s64/photo.jpg",
      "userId": "01187774058518579048"
     },
     "user_tz": -60
    },
    "id": "avgr6GfiUh8t",
    "outputId": "223733b5-dfa7-4380-f554-f18ff09c6a77",
    "scrolled": true
   },
   "outputs": [],
   "source": [
    "city_names = pd.Series(['San Francisco', 'San Jose', 'Sacramento'])\n",
    "population = pd.Series([852469, 1015785, 485199])\n",
    "\n",
    "pd.DataFrame({ 'City name': city_names, 'Population': population })"
   ]
  },
  {
   "cell_type": "markdown",
   "metadata": {
    "colab_type": "text",
    "id": "oa5wfZT7VHJl"
   },
   "source": [
    "But most of the time, you load an entire file into a `DataFrame`. The following example loads a file with California housing data. Run the following cell to load the data and create feature definitions:"
   ]
  },
  {
   "cell_type": "code",
   "execution_count": null,
   "metadata": {
    "colab": {
     "base_uri": "https://localhost:8080/",
     "height": 284
    },
    "colab_type": "code",
    "executionInfo": {
     "elapsed": 1099,
     "status": "ok",
     "timestamp": 1546017858053,
     "user": {
      "displayName": "Vito Masciulli",
      "photoUrl": "https://lh4.googleusercontent.com/-pFUayDS0zi8/AAAAAAAAAAI/AAAAAAAAGv8/35wOrvOCmz8/s64/photo.jpg",
      "userId": "01187774058518579048"
     },
     "user_tz": -60
    },
    "id": "av6RYOraVG1V",
    "outputId": "3faddf89-d50a-40c6-a709-0b247802d4f9"
   },
   "outputs": [],
   "source": [
    "california_housing_dataframe = pd.read_csv(\"https://download.mlcc.google.com/mledu-datasets/california_housing_train.csv\", sep=\",\")\n",
    "california_housing_dataframe.describe()"
   ]
  },
  {
   "cell_type": "markdown",
   "metadata": {
    "colab_type": "text",
    "id": "WrkBjfz5kEQu"
   },
   "source": [
    "The example above used `DataFrame.describe` to show interesting statistics about a `DataFrame`. Another useful function is `DataFrame.head`, which displays the first few records of a `DataFrame`:"
   ]
  },
  {
   "cell_type": "code",
   "execution_count": null,
   "metadata": {
    "colab": {
     "base_uri": "https://localhost:8080/",
     "height": 195
    },
    "colab_type": "code",
    "executionInfo": {
     "elapsed": 1000,
     "status": "ok",
     "timestamp": 1546017861990,
     "user": {
      "displayName": "Vito Masciulli",
      "photoUrl": "https://lh4.googleusercontent.com/-pFUayDS0zi8/AAAAAAAAAAI/AAAAAAAAGv8/35wOrvOCmz8/s64/photo.jpg",
      "userId": "01187774058518579048"
     },
     "user_tz": -60
    },
    "id": "s3ND3bgOkB5k",
    "outputId": "49031814-0434-45c6-d0b2-a7c24a1ede70"
   },
   "outputs": [],
   "source": [
    "california_housing_dataframe.head()"
   ]
  },
  {
   "cell_type": "markdown",
   "metadata": {
    "colab_type": "text",
    "id": "w9-Es5Y6laGd"
   },
   "source": [
    "Another powerful feature of *pandas* is graphing. For example, `DataFrame.hist` lets you quickly study the distribution of values in a column:"
   ]
  },
  {
   "cell_type": "code",
   "execution_count": null,
   "metadata": {
    "colab": {
     "base_uri": "https://localhost:8080/",
     "height": 395
    },
    "colab_type": "code",
    "executionInfo": {
     "elapsed": 1205,
     "status": "ok",
     "timestamp": 1546017865834,
     "user": {
      "displayName": "Vito Masciulli",
      "photoUrl": "https://lh4.googleusercontent.com/-pFUayDS0zi8/AAAAAAAAAAI/AAAAAAAAGv8/35wOrvOCmz8/s64/photo.jpg",
      "userId": "01187774058518579048"
     },
     "user_tz": -60
    },
    "id": "nqndFVXVlbPN",
    "outputId": "d2efaa62-f574-458a-8c95-6db3e4b935be"
   },
   "outputs": [],
   "source": [
    "california_housing_dataframe.hist('housing_median_age')"
   ]
  },
  {
   "cell_type": "markdown",
   "metadata": {
    "colab_type": "text",
    "id": "XtYZ7114n3b-"
   },
   "source": [
    "## Accessing Data\n",
    "\n",
    "You can access `DataFrame` data using familiar Python dict/list operations:"
   ]
  },
  {
   "cell_type": "code",
   "execution_count": null,
   "metadata": {
    "colab": {
     "base_uri": "https://localhost:8080/",
     "height": 101
    },
    "colab_type": "code",
    "executionInfo": {
     "elapsed": 1007,
     "status": "ok",
     "timestamp": 1546017873183,
     "user": {
      "displayName": "Vito Masciulli",
      "photoUrl": "https://lh4.googleusercontent.com/-pFUayDS0zi8/AAAAAAAAAAI/AAAAAAAAGv8/35wOrvOCmz8/s64/photo.jpg",
      "userId": "01187774058518579048"
     },
     "user_tz": -60
    },
    "id": "_TFm7-looBFF",
    "outputId": "f4595ad1-23db-4f81-f970-204acba8aef2"
   },
   "outputs": [],
   "source": [
    "cities = pd.DataFrame({ 'City name': city_names, 'Population': population })\n",
    "print(type(cities['City name']))\n",
    "cities['City name']"
   ]
  },
  {
   "cell_type": "code",
   "execution_count": null,
   "metadata": {
    "colab": {
     "base_uri": "https://localhost:8080/",
     "height": 50
    },
    "colab_type": "code",
    "executionInfo": {
     "elapsed": 1014,
     "status": "ok",
     "timestamp": 1546017877123,
     "user": {
      "displayName": "Vito Masciulli",
      "photoUrl": "https://lh4.googleusercontent.com/-pFUayDS0zi8/AAAAAAAAAAI/AAAAAAAAGv8/35wOrvOCmz8/s64/photo.jpg",
      "userId": "01187774058518579048"
     },
     "user_tz": -60
    },
    "id": "V5L6xacLoxyv",
    "outputId": "63aa6a77-dff3-45fa-e3bb-750591cc90b2"
   },
   "outputs": [],
   "source": [
    "print(type(cities['City name'][1]))\n",
    "cities['City name'][1]"
   ]
  },
  {
   "cell_type": "code",
   "execution_count": null,
   "metadata": {
    "colab": {
     "base_uri": "https://localhost:8080/",
     "height": 123
    },
    "colab_type": "code",
    "executionInfo": {
     "elapsed": 790,
     "status": "ok",
     "timestamp": 1546017880063,
     "user": {
      "displayName": "Vito Masciulli",
      "photoUrl": "https://lh4.googleusercontent.com/-pFUayDS0zi8/AAAAAAAAAAI/AAAAAAAAGv8/35wOrvOCmz8/s64/photo.jpg",
      "userId": "01187774058518579048"
     },
     "user_tz": -60
    },
    "id": "gcYX1tBPugZl",
    "outputId": "f20347b9-7e28-4b83-b35e-15055eeb00b6"
   },
   "outputs": [],
   "source": [
    "print(type(cities[0:2]))\n",
    "cities[0:2]"
   ]
  },
  {
   "cell_type": "markdown",
   "metadata": {
    "colab_type": "text",
    "id": "65g1ZdGVjXsQ"
   },
   "source": [
    "In addition, *pandas* provides an extremely rich API for advanced [indexing and selection](http://pandas.pydata.org/pandas-docs/stable/indexing.html) that is too extensive to be covered here."
   ]
  },
  {
   "cell_type": "markdown",
   "metadata": {
    "colab_type": "text",
    "id": "RM1iaD-ka3Y1"
   },
   "source": [
    "## Manipulating Data\n",
    "\n",
    "You may apply Python's basic arithmetic operations to `Series`. For example:"
   ]
  },
  {
   "cell_type": "code",
   "execution_count": null,
   "metadata": {
    "colab": {
     "base_uri": "https://localhost:8080/",
     "height": 84
    },
    "colab_type": "code",
    "executionInfo": {
     "elapsed": 1180,
     "status": "ok",
     "timestamp": 1546017886207,
     "user": {
      "displayName": "Vito Masciulli",
      "photoUrl": "https://lh4.googleusercontent.com/-pFUayDS0zi8/AAAAAAAAAAI/AAAAAAAAGv8/35wOrvOCmz8/s64/photo.jpg",
      "userId": "01187774058518579048"
     },
     "user_tz": -60
    },
    "id": "XWmyCFJ5bOv-",
    "outputId": "7dfea2e8-0352-4f7c-e60e-9e2d9c70f5d2"
   },
   "outputs": [],
   "source": [
    "population / 1000."
   ]
  },
  {
   "cell_type": "markdown",
   "metadata": {
    "colab_type": "text",
    "id": "TQzIVnbnmWGM"
   },
   "source": [
    "[NumPy](http://www.numpy.org/) is a popular toolkit for scientific computing. *pandas* `Series` can be used as arguments to most NumPy functions:"
   ]
  },
  {
   "cell_type": "code",
   "execution_count": null,
   "metadata": {
    "colab": {
     "base_uri": "https://localhost:8080/",
     "height": 84
    },
    "colab_type": "code",
    "executionInfo": {
     "elapsed": 1124,
     "status": "ok",
     "timestamp": 1546017890069,
     "user": {
      "displayName": "Vito Masciulli",
      "photoUrl": "https://lh4.googleusercontent.com/-pFUayDS0zi8/AAAAAAAAAAI/AAAAAAAAGv8/35wOrvOCmz8/s64/photo.jpg",
      "userId": "01187774058518579048"
     },
     "user_tz": -60
    },
    "id": "ko6pLK6JmkYP",
    "outputId": "0e2c538d-9323-480e-a453-3afbc56dd417"
   },
   "outputs": [],
   "source": [
    "import numpy as np\n",
    "\n",
    "np.log(population)"
   ]
  },
  {
   "cell_type": "markdown",
   "metadata": {
    "colab_type": "text",
    "id": "xmxFuQmurr6d"
   },
   "source": [
    "For more complex single-column transformations, you can use `Series.apply`. Like the Python [map function](https://docs.python.org/2/library/functions.html#map), \n",
    "`Series.apply` accepts as an argument a [lambda function](https://docs.python.org/2/tutorial/controlflow.html#lambda-expressions), which is applied to each value.\n",
    "\n",
    "The example below creates a new `Series` that indicates whether `population` is over one million:"
   ]
  },
  {
   "cell_type": "code",
   "execution_count": null,
   "metadata": {
    "colab": {
     "base_uri": "https://localhost:8080/",
     "height": 84
    },
    "colab_type": "code",
    "executionInfo": {
     "elapsed": 1978,
     "status": "ok",
     "timestamp": 1546017895264,
     "user": {
      "displayName": "Vito Masciulli",
      "photoUrl": "https://lh4.googleusercontent.com/-pFUayDS0zi8/AAAAAAAAAAI/AAAAAAAAGv8/35wOrvOCmz8/s64/photo.jpg",
      "userId": "01187774058518579048"
     },
     "user_tz": -60
    },
    "id": "Fc1DvPAbstjI",
    "outputId": "e5f097ca-aeef-4b6c-ae99-579a78f1a49e"
   },
   "outputs": [],
   "source": [
    "population.apply(lambda val: val > 1000000)"
   ]
  },
  {
   "cell_type": "markdown",
   "metadata": {
    "colab_type": "text",
    "id": "ZeYYLoV9b9fB"
   },
   "source": [
    "\n",
    "Modifying `DataFrames` is also straightforward. For example, the following code adds two `Series` to an existing `DataFrame`:"
   ]
  },
  {
   "cell_type": "code",
   "execution_count": null,
   "metadata": {
    "colab": {
     "base_uri": "https://localhost:8080/",
     "height": 136
    },
    "colab_type": "code",
    "executionInfo": {
     "elapsed": 690,
     "status": "ok",
     "timestamp": 1546017898136,
     "user": {
      "displayName": "Vito Masciulli",
      "photoUrl": "https://lh4.googleusercontent.com/-pFUayDS0zi8/AAAAAAAAAAI/AAAAAAAAGv8/35wOrvOCmz8/s64/photo.jpg",
      "userId": "01187774058518579048"
     },
     "user_tz": -60
    },
    "id": "0gCEX99Hb8LR",
    "outputId": "199ec521-8baf-4e08-9010-2c9750b7bdf0"
   },
   "outputs": [],
   "source": [
    "cities['Area square miles'] = pd.Series([46.87, 176.53, 97.92])\n",
    "cities['Population density'] = cities['Population'] / cities['Area square miles']\n",
    "cities"
   ]
  },
  {
   "cell_type": "markdown",
   "metadata": {
    "colab_type": "text",
    "id": "6qh63m-ayb-c"
   },
   "source": [
    "## Exercise #1\n",
    "\n",
    "Modify the `cities` table by adding a new boolean column that is True if and only if *both* of the following are True:\n",
    "\n",
    "  * The city is named after a saint.\n",
    "  * The city has an area greater than 50 square miles.\n",
    "\n",
    "**Note:** Boolean `Series` are combined using the bitwise, rather than the traditional boolean, operators. For example, when performing *logical and*, use `&` instead of `and`.\n",
    "\n",
    "**Hint:** \"San\" in Spanish means \"saint.\""
   ]
  },
  {
   "cell_type": "code",
   "execution_count": null,
   "metadata": {
    "colab": {
     "base_uri": "https://localhost:8080/",
     "height": 136
    },
    "colab_type": "code",
    "executionInfo": {
     "elapsed": 1033,
     "status": "ok",
     "timestamp": 1546017916895,
     "user": {
      "displayName": "Vito Masciulli",
      "photoUrl": "https://lh4.googleusercontent.com/-pFUayDS0zi8/AAAAAAAAAAI/AAAAAAAAGv8/35wOrvOCmz8/s64/photo.jpg",
      "userId": "01187774058518579048"
     },
     "user_tz": -60
    },
    "id": "zCOn8ftSyddH",
    "outputId": "019b533b-02bf-4de6-cd6c-290cab1d3701"
   },
   "outputs": [],
   "source": [
    "cities['Saint over']=(cities['City name'].apply(lambda str: str.startswith('San'))) & (cities['Area square miles'] > 50)\n",
    "cities"
   ]
  },
  {
   "cell_type": "markdown",
   "metadata": {
    "colab_type": "text",
    "id": "YHIWvc9Ms-Ll"
   },
   "source": [
    "### Solution\n",
    "\n",
    "Click below for a solution."
   ]
  },
  {
   "cell_type": "code",
   "execution_count": null,
   "metadata": {
    "colab": {
     "base_uri": "https://localhost:8080/",
     "height": 136
    },
    "colab_type": "code",
    "executionInfo": {
     "elapsed": 1330,
     "status": "ok",
     "timestamp": 1546017960641,
     "user": {
      "displayName": "Vito Masciulli",
      "photoUrl": "https://lh4.googleusercontent.com/-pFUayDS0zi8/AAAAAAAAAAI/AAAAAAAAGv8/35wOrvOCmz8/s64/photo.jpg",
      "userId": "01187774058518579048"
     },
     "user_tz": -60
    },
    "id": "T5OlrqtdtCIb",
    "outputId": "69add583-7208-4320-c318-19731e7d1f66"
   },
   "outputs": [],
   "source": [
    "cities['Is wide and has saint name'] = (cities['Area square miles'] > 50) & cities['City name'].apply(lambda name: name.startswith('San'))\n",
    "cities"
   ]
  },
  {
   "cell_type": "markdown",
   "metadata": {
    "colab_type": "text",
    "id": "f-xAOJeMiXFB"
   },
   "source": [
    "## Indexes\n",
    "Both `Series` and `DataFrame` objects also define an `index` property that assigns an identifier value to each `Series` item or `DataFrame` row. \n",
    "\n",
    "By default, at construction, *pandas* assigns index values that reflect the ordering of the source data. Once created, the index values are stable; that is, they do not change when data is reordered."
   ]
  },
  {
   "cell_type": "code",
   "execution_count": null,
   "metadata": {
    "colab": {
     "base_uri": "https://localhost:8080/",
     "height": 34
    },
    "colab_type": "code",
    "executionInfo": {
     "elapsed": 1025,
     "status": "ok",
     "timestamp": 1546017974387,
     "user": {
      "displayName": "Vito Masciulli",
      "photoUrl": "https://lh4.googleusercontent.com/-pFUayDS0zi8/AAAAAAAAAAI/AAAAAAAAGv8/35wOrvOCmz8/s64/photo.jpg",
      "userId": "01187774058518579048"
     },
     "user_tz": -60
    },
    "id": "2684gsWNinq9",
    "outputId": "ca1de685-ad20-4e12-a6e7-404fb3d16f48"
   },
   "outputs": [],
   "source": [
    "city_names.index"
   ]
  },
  {
   "cell_type": "code",
   "execution_count": null,
   "metadata": {
    "colab": {
     "base_uri": "https://localhost:8080/",
     "height": 34
    },
    "colab_type": "code",
    "executionInfo": {
     "elapsed": 1009,
     "status": "ok",
     "timestamp": 1546017979987,
     "user": {
      "displayName": "Vito Masciulli",
      "photoUrl": "https://lh4.googleusercontent.com/-pFUayDS0zi8/AAAAAAAAAAI/AAAAAAAAGv8/35wOrvOCmz8/s64/photo.jpg",
      "userId": "01187774058518579048"
     },
     "user_tz": -60
    },
    "id": "F_qPe2TBjfWd",
    "outputId": "c50d84d3-dcbb-4eba-e05b-1ead6ae57979"
   },
   "outputs": [],
   "source": [
    "cities.index"
   ]
  },
  {
   "cell_type": "markdown",
   "metadata": {
    "colab_type": "text",
    "id": "hp2oWY9Slo_h"
   },
   "source": [
    "Call `DataFrame.reindex` to manually reorder the rows. For example, the following has the same effect as sorting by city name:"
   ]
  },
  {
   "cell_type": "code",
   "execution_count": null,
   "metadata": {
    "colab": {
     "base_uri": "https://localhost:8080/",
     "height": 136
    },
    "colab_type": "code",
    "executionInfo": {
     "elapsed": 1327,
     "status": "ok",
     "timestamp": 1546017983555,
     "user": {
      "displayName": "Vito Masciulli",
      "photoUrl": "https://lh4.googleusercontent.com/-pFUayDS0zi8/AAAAAAAAAAI/AAAAAAAAGv8/35wOrvOCmz8/s64/photo.jpg",
      "userId": "01187774058518579048"
     },
     "user_tz": -60
    },
    "id": "sN0zUzSAj-U1",
    "outputId": "df347b4b-32c4-406d-9d5e-fa51a489908d"
   },
   "outputs": [],
   "source": [
    "cities.reindex([2, 0, 1])"
   ]
  },
  {
   "cell_type": "markdown",
   "metadata": {
    "colab_type": "text",
    "id": "-GQFz8NZuS06"
   },
   "source": [
    "Reindexing is a great way to shuffle (randomize) a `DataFrame`. In the example below, we take the index, which is array-like, and pass it to NumPy's `random.permutation` function, which shuffles its values in place. Calling `reindex` with this shuffled array causes the `DataFrame` rows to be shuffled in the same way.\n",
    "Try running the following cell multiple times!"
   ]
  },
  {
   "cell_type": "code",
   "execution_count": null,
   "metadata": {
    "colab": {
     "base_uri": "https://localhost:8080/",
     "height": 136
    },
    "colab_type": "code",
    "executionInfo": {
     "elapsed": 709,
     "status": "ok",
     "timestamp": 1546017988605,
     "user": {
      "displayName": "Vito Masciulli",
      "photoUrl": "https://lh4.googleusercontent.com/-pFUayDS0zi8/AAAAAAAAAAI/AAAAAAAAGv8/35wOrvOCmz8/s64/photo.jpg",
      "userId": "01187774058518579048"
     },
     "user_tz": -60
    },
    "id": "mF8GC0k8uYhz",
    "outputId": "6a6b01f2-3a09-4930-dfa1-ecf6c4fd53ef"
   },
   "outputs": [],
   "source": [
    "cities.reindex(np.random.permutation(cities.index))"
   ]
  },
  {
   "cell_type": "markdown",
   "metadata": {
    "colab_type": "text",
    "id": "fSso35fQmGKb"
   },
   "source": [
    "For more information, see the [Index documentation](http://pandas.pydata.org/pandas-docs/stable/indexing.html#index-objects)."
   ]
  },
  {
   "cell_type": "markdown",
   "metadata": {
    "colab_type": "text",
    "id": "8UngIdVhz8C0"
   },
   "source": [
    "## Exercise #2\n",
    "\n",
    "The `reindex` method allows index values that are not in the original `DataFrame`'s index values. Try it and see what happens if you use such values! Why do you think this is allowed?"
   ]
  },
  {
   "cell_type": "code",
   "execution_count": null,
   "metadata": {
    "colab": {
     "base_uri": "https://localhost:8080/",
     "height": 254
    },
    "colab_type": "code",
    "executionInfo": {
     "elapsed": 846,
     "status": "ok",
     "timestamp": 1546017998105,
     "user": {
      "displayName": "Vito Masciulli",
      "photoUrl": "https://lh4.googleusercontent.com/-pFUayDS0zi8/AAAAAAAAAAI/AAAAAAAAGv8/35wOrvOCmz8/s64/photo.jpg",
      "userId": "01187774058518579048"
     },
     "user_tz": -60
    },
    "id": "PN55GrDX0jzO",
    "outputId": "4768b469-9f04-4b98-8f48-ddfe54f258b3"
   },
   "outputs": [],
   "source": [
    "cities.reindex([6, 0, 3, 1, 2, 5, 4])"
   ]
  },
  {
   "cell_type": "markdown",
   "metadata": {
    "colab_type": "text",
    "id": "TJffr5_Jwqvd"
   },
   "source": [
    "### Solution\n",
    "\n",
    "Click below for the solution."
   ]
  },
  {
   "cell_type": "markdown",
   "metadata": {
    "colab_type": "text",
    "id": "8oSvi2QWwuDH"
   },
   "source": [
    "If your `reindex` input array includes values not in the original `DataFrame` index values, `reindex` will add new rows for these \"missing\" indices and populate all corresponding columns with `NaN` values:"
   ]
  },
  {
   "cell_type": "code",
   "execution_count": null,
   "metadata": {
    "colab": {
     "base_uri": "https://localhost:8080/",
     "height": 166
    },
    "colab_type": "code",
    "executionInfo": {
     "elapsed": 1927,
     "status": "ok",
     "timestamp": 1546018004760,
     "user": {
      "displayName": "Vito Masciulli",
      "photoUrl": "https://lh4.googleusercontent.com/-pFUayDS0zi8/AAAAAAAAAAI/AAAAAAAAGv8/35wOrvOCmz8/s64/photo.jpg",
      "userId": "01187774058518579048"
     },
     "user_tz": -60
    },
    "id": "yBdkucKCwy4x",
    "outputId": "31c8f5fa-5bb5-4ee8-8ab9-4c58c061748d"
   },
   "outputs": [],
   "source": [
    "cities.reindex([0, 4, 5, 2])"
   ]
  },
  {
   "cell_type": "markdown",
   "metadata": {
    "colab_type": "text",
    "id": "2l82PhPbwz7g"
   },
   "source": [
    "This behavior is desirable because indexes are often strings pulled from the actual data (see the [*pandas* reindex\n",
    "documentation](http://pandas.pydata.org/pandas-docs/stable/generated/pandas.DataFrame.reindex.html) for an example\n",
    "in which the index values are browser names).\n",
    "\n",
    "In this case, allowing \"missing\" indices makes it easy to reindex using an external list, as you don't have to worry about\n",
    "sanitizing the input."
   ]
  }
 ],
 "metadata": {
  "accelerator": "GPU",
  "colab": {
   "collapsed_sections": [
    "JndnmDMp66FL"
   ],
   "name": "intro_to_pandas.ipynb",
   "provenance": [],
   "version": "0.3.2"
  },
  "kernelspec": {
   "display_name": "TensorFlow-GPU",
   "language": "python",
   "name": "tf-gpu"
  },
  "language_info": {
   "codemirror_mode": {
    "name": "ipython",
    "version": 3
   },
   "file_extension": ".py",
   "mimetype": "text/x-python",
   "name": "python",
   "nbconvert_exporter": "python",
   "pygments_lexer": "ipython3",
   "version": "3.6.7"
  }
 },
 "nbformat": 4,
 "nbformat_minor": 1
}
